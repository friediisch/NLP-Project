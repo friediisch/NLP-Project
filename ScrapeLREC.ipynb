{
 "cells": [
  {
   "cell_type": "code",
   "execution_count": 16,
   "metadata": {},
   "outputs": [],
   "source": [
    "#%qtconsole\n",
    "import PyPDF2\n",
    "import re\n",
    "#import textract"
   ]
  },
  {
   "cell_type": "code",
   "execution_count": 17,
   "metadata": {},
   "outputs": [],
   "source": [
    "#write a for-loop to open many files -- leave a comment if you'd #like to learn how\n",
    "filename = 'data/LREC/LREC2012_Proceedings/pdf/194_Paper.pdf'\n",
    "#open allows you to read the file\n",
    "pdfFileObj = open(filename,'rb')\n",
    "#The pdfReader variable is a readable object that will be parsed\n",
    "pdfReader = PyPDF2.PdfFileReader(pdfFileObj)\n",
    "#discerning the number of pages will allow us to parse through all #the pages\n",
    "num_pages = pdfReader.numPages\n",
    "text = \"\"\n",
    "#The for loop will read each page\n",
    "for page_index in range(num_pages):\n",
    "    pageObj = pdfReader.getPage(page_index)\n",
    "    text += pageObj.extractText()"
   ]
  },
  {
   "cell_type": "markdown",
   "metadata": {},
   "source": [
    "Title Extraction"
   ]
  },
  {
   "cell_type": "markdown",
   "metadata": {},
   "source": [
    "Keyword Extraction"
   ]
  },
  {
   "cell_type": "code",
   "execution_count": 19,
   "metadata": {},
   "outputs": [
    {
     "data": {
      "text/plain": [
       "'RepresentingtheTranslationRelationinaBilingualWordnet\\nJyrkiNiemi,KristerLindén\\nLanguageTechnology,DepartmentofModernLanguages,UniversityofHelsinki\\nPOBox24,FI-00014UniversityofHelsinki,Finland\\n{jyrki.niemi,krister\\nAbstractThispaperdescribesrepresentingtranslationsintheFinnishwordnet,FinnWordNet(FiWN),andconstructingtheFiWNdatabase.\\nFiWNwascreatedbytranslatingallthewordsensesofthePrincetonWordNet(PWN)intoFinnishandbyjoiningthetranslationswith\\nthesemanticandlexicalrelationsofPWNextractedintoarelational(database)format.Theapproachnaturallyresultedinatranslation\\nrelationbetweenPWNandFiWN.Unlikemanyothermultilingualwordnets,thetranslationrelationinFiWNisnotprimarilyonthe\\n\\nsynsetlevel,butonthelevelofanindividualwordsense,whichallowsmoreprecisetranslationcorrespondences.Thiscaneasilybe\\n\\nprojectedintoasynset-leveltranslationrelation,usedforlinkingwithotherwordnets,forexample,viaCoreWordNet.Synset-level\\n\\ntranslationsarealsousedasadefaultintheabsenceofword-sensetranslations.TheFiWNdataintherelationaldatabasecanbeconverted\\n\\ntootherformats.InthePWNdatabaseformat,translationsareattachedtosource-languagewords,allowingtheimplementationofaWeb\\n\\nsearchinterfacealsoworkingasabilingualdictionary.Anotherrepresentationencodesthetranslationrelationasatransducer.\\nKeywords:\\nwordnet,bilingualrepresentation,translationrelation\\n1.Introduction\\nTheFinnishwordnet,FinnWordNet(FiWN)isatranslation\\nofthewordsensesinthePrincetonWordNet(PWN,version\\n\\n3.0)(Fellbaum,1998).Thispaperdescribesrepresentations\\n\\nofthePWNŒFiWNtranslationrelationandthemethodof\\n\\nconstructingtheFiWNdatabasebycombiningthestructure\\n\\n(semanticandlexicalrelations)ofthePWNandtheFinnish\\ntranslationsofthewordsenses.\\n1.1.FinnWordNetasaTranslation\\nPreviousapproachestomultilingualwordnetsthe\\ntranslationrelationbetweensenses(synonymsets,syn-\\n\\nsets),whichweregardastoocoarseforotherthantext-\\n\\nunderstandingpurposes;forexample,thewordsensetrans-\\n\\nlationrelation{\\nAmur$Amur,AmurRiver\\n$Amurjoki}wouldbereducedtothesynsettranslationrelation{\\nAmur,AmurRiver\\n}${Amur,Amurjoki},losingthedistinc-\\ntionsinthewordsensetranslationcorrespondences.Inthis\\n\\npaper,weproposeasolutionwiththetranslationrelation\\n\\nbetweenwordsenses.\\nThewordsensesofallthesynsetsofPWNweretrans-\\nlatedintoFinnishbyprofessionaltranslatorsasdescribed\\n\\nbyLindénandCarlson(2010).Thedirecttranslationap-\\nproachisbasedontheassumptionthatmostsynsetsin\\nPWNrepresentlanguage-independentreal-worldconcepts.\\n\\nThusalsothesemanticrelationsbetweensynsetsareas-\\n\\nsumedtobemostlylanguage-independent,sothestructure\\n\\nofPWNcanbereusedaswell.Thisapproachmadeitpos-\\n\\nsibletocreateanextensiveFinnishwordnetdirectlyaligned\\nwithPWN,eventhoughsomewordsandconcepts\\ntotheFinnishcultureandsocietywereleftmissingatthis\\n\\nstage.FiWNcurrentlycontains117,659synsets,asdoes\\n\\nPWN.Thetranslationrelationalsomakesitpossibletouse\\n\\nFiWNlinkedwithPWNasabilingualEnglishŒFinnishŒ\\n\\nEnglishdictionary,aswellasaFinnish-onlywordnet.\\n1.2.FinnWordNetDataRepresentations\\nDifferentusesofanddifferentsoftwareforawordnetre-\\nquireorfromdifferentformatsorrepresentations\\nofthewordnetdata.DifferentformatsincludethePWN\\ntextualdatabaseformat,relationaldatabaseformats,such\\n\\nastheGermaNetdatabase(HenrichandHinrichs,2010a),\\n\\nXMLformats,suchasWordnet-LMF(Soriaetal.,2009)\\n\\nanditsextensions(HenrichandHinrichs,2010b),and\\n\\nsimpleplain-textlistsoftab-orcomma-separatedvalues.\\n1AwordnetinthePWNdatabaseformatcanbesearched\\n\\nusingthePWNsearchsoftwareandvariouswordnetlib-\\n\\nraries;arelationaldatabasecanbeprocessedef\\n\\nwithstandarddatabasesystemsandlibraries;astandard-\\n\\nizedXMLformatcanbeusedfordatainterchange;and\\n\\nplain-textlistsareoftensimpletouseinrapidly-written\\nscripts.ToensuretheconsistencyoftheFiWNdatainthediffer-\\n\\nentformats,wehavechosenarelational(database)format\\n\\nastheprimaryformattowhichchangestothecontent\\n\\naremadeandfromwhichotherformatsaregenerated,\\n\\neitherdirectlyorviaintermediateformats.Manycommon\\nformatsaremonolingual,sowehaveextendedthemwitha\\ntranslationrelation.WehaveconversionpathstothePWN\\n\\ndatabaseformat,plain-textlistsandtransducers.\\n\\nFigure1showstheprocessofconstructingFiWN,along\\n\\nwiththedifferenttypesofandprogramsused.The\\nFiWNdataisfreelyavailableandcanbedownloadedin\\nseveralformatsfromtheFiWNprojectWebpage.\\n2TheFinnishtranslationsofthePWNwordsensesas\\n\\nprovidedbythetranslatorswereinanXMLformatcon-\\n\\ntainingonlyasmallpartofthestructureofPWN,serving\\n\\nasatranslationcontext.Toconstructausablewordnetfor\\nFinnishhavingthestructureofPWN,wethuscom-\\nbinedtherelationsextractedfromthePWNdatabasewith\\n\\ntheFinnishtranslationsofthePWNwordsenses.\\n1Tab-orcomma-separated-valuescanalsobeusedasa\\nplain-textrepresentationofthetablesofarelationaldatabase.\\n2http://wwwordnet/\\n2439PWNlexicographer\\nGrindPWNdata\\nRelationextractor\\nPWNdata\\nrelationsFiWNtranslations\\n(XML)\\nExtractorFiWNtranslations\\nrelationTranslation\\ncombinerFiWNdata\\nrelations(incl.translations)\\nDatabasecreator\\nFiWNdatabase\\nwithtranslation\\nrelationDatabaserelation\\nextractor\\nLexidgenerator\\nFiWNdata\\nrelationsfor\\nlexicographer\\nLexicographer\\ncreatorFiWNlexicographer\\nGrind\\nFiWNdata\\n(PWNformat)\\nConverterto\\nformatXFiWNdatain\\nformatXFigure1:ConstructingFiWNbycombiningthePWN\\nstructureandFinnishtranslations,withtheresultinmul-\\ntipletargetformats.Rectanglesdenotedouble-\\nborderedrectanglesdenotethemainrepresentations;roun-\\n\\ndedrectanglesdenoteprogramsorscripts;dashedpartsrep-\\n\\nresentgenericconversionpathstoothertargetformats.\\nSinceFiWNisatranslationofthePWNwordsensesand\\nretainsthestructureofPWN,weconvertedthedatato\\n\\nthePWNdatabaseformatsearchablewiththePWNsearch\\n\\nsoftware,\\n3whichisusedintheFiWNWebsearchinter-\\nface.\\n4Themajoradvantageofthisapproachwasthatwe\\nwereabletodevelopthesearchinterfacemorerapidlythan\\n\\notherwise.ThePWNdatabaseformathasnosupportfor\\n\\ntranslations,butweattachedthemtowordsensesbyusing\\n\\naspecialsyntaxprocessedbythesearchinterface.\\nSincethePWNdatabaseformatisveryspecializedanddif-\\ntoextend,weconvertedtheFiWNdataintoarela-\\n\\ntionaldatabaseformatbasedonthatusedfortheGerman\\nwordnet,GermaNet(HenrichandHinrichs,2010a),mod-\\nandextendedwithword-senseandsynsettranslation\\n\\nrelations.UsingtheGermaNetdatabaseasthebasishas\\n\\ntheadditionaladvantagethatwecoulduseanappropriately\\n\\nversionoftheGernEdiTeditor(HenrichandHin-\\n3http://wordnet.princeton.edu/wordnet/man/wn.1WN.html\\n4http://www\\nrichs,2010a)tobrowseandeditFiWNdata,whichwould\\n\\nmakeextendingandmodifyingFiWNmoreuser-friendly.\\n\\nTherestofthispaperisorganizedasfollows.Section2.de-\\nscribestheinformationcontentofthePWNdatabase.Sec-\\ntion3.presentsdifferentwaysofrepresentingtranslations.\\n\\nSection4.describeshowweconstructedtheFiWNdata-\\n\\nbases,andSection5.howwesucceededinit.Section6.\\n\\ndiscussestheprocessanddirectionsforfurtherwork,and\\n\\nSection8.concludesthepaper.\\n2.WordnetInformationContent\\nTheinformationinPWNisstoredinthespecializedPWN\\n\\ndatabaseformat.TosimplifyconstructingtheFiWNdata-\\n\\nbase,weextracttherelationsimplicitlypresentinthe\\nPWNdatabase.\\n2.1.PrincetonWordNetDatabase\\nThePWNdatabaseusesatextualformatofitsown,\\ncomprisingdataandindexgeneratedfromthesource\\nlexicographer\\nbythePWNGrindprogram.\\n5Eachpartofspeechhasaseparatedataandindex\\n\\n(Sincewedonotneedtheindexinconstructingthe\\n\\nFiWNdatabase,weomittheirdescription.)Eachlineina\\n\\ndatacontainstheentryforasinglesynsetwiththein-\\nformationshowninTable1.Figure2showsanexampleof\\nasynsetentryinadataandthecorrespondingsource\\n\\nentryinalexicographerAdetaileddescriptionofthe\\n\\ndatabaseformatsisfoundinthePWNdocumentation.\\n6Offsetofthelineinthe\\nSourcelexicographernumber\\n\\nSynsettype(generally,partofspeech)\\n\\nNumberofwordsinthesynset\\n\\nListofwords:\\nWord\\nLexicalnumber(lexid)\\nNumberofpointers(semanticandlexicalrelations)\\nListofpointers:\\nRelationtype\\n\\nTargetsynsetoffset\\n\\nPartofspeech\\n\\nSourceandtargetwordnumber(forlexicalrelations)\\nSentenceframenumbers(forverbsonly)\\n\\nGlossTable1:InformationinaPWNdataentry(synset).\\n0983353618n02baker0bread_maker0002@\\n10605985n0000+01663749v0101|someonewho\\n\\nbakesbreadorcake\\n{[baker,verb.creation:bake,+]bread_maker,\\nskilled_worker,@(someonewhobakesbreador\\ncake)}\\nFigure2:PWNdata(data.noun)andlexicographer\\n(noun.person)entryforthesynset{\\nbaker,breadmaker\\n}.PWNsynsetshavenopersistentWithinone\\nPWNversion,thesynsetoffsetsinadatacanbeusedas\\n5http://wordnet.princeton.edu/wordnet/man/grind.1WN.html\\n6http://wordnet.princeton.edu/wordnet/documentation/\\n2440ofakindwithinapartofspeech(e.g.,09833536\\nfor{\\nbaker,breadmaker\\n}inFigure2).Theoffsetschange,\\nhowever,ifthelengthofthedatainanysynsetchanges.\\nAlternativewaysofreferringtoasynsettypicallyreferto\\narepresentativeofthesynset,i.e.,awordsense,byusing,\\n\\nforexample,asensekeyofthePWNsenseindex(e.g.,\\n\\nbaker%1:18:00::\\nfor{\\nbaker,breadmaker\\n}).7ThePWNdatabaseformatisdesignedforefsearch-\\n\\ningusingbinarysearchandrandomaccess.However,it\\n\\nwouldbediftousethedatabase\\ndirectly\\nasthe\\nbasisfortheFiWNdatabase,asreplacingEnglishwords\\n\\nwiththeirFinnishtranslationswouldchangeoffsets\\n\\nandasawordmayhaveseveraldifferenttranslations.In-\\n\\nstead,weextracttheinformationinthedatato\\n\\nintermediaterelationwhicharethencombinedwith\\n\\ntheFinnishtranslationstoFiWNrelationfromwhich\\notherformatscanbegenerated.\\n2.2.ExtractedRelations\\nTherelationextractedfromthePWNdatabaserepres-\\nenttherelations(inthesenseofrelationaldatabases)im-\\n\\nplicitlypresentinthePWNdatabase.Therelationare\\n\\nsimpleplain-texttab-separated-values\\nTheinformationinthePWNdatabaseisdividedintothe\\nfollowingfourrelations(attributescomprisingtheprimary\\nkeyunderlined):\\nSYNSETS\\n(synset_id;pos;le\\n;verb_frames\\n;gloss)SEM\\n_RELS\\n(source_synset_id\\n;target_synset_id\\n;rel_type\\n)WORD\\n_SENSES\\n(synset_id;lemma;lex_id\\n;syn_marker\\n)LEX\\n_RELS\\n(source_synset_id\\n;source_lemma\\n;target_synset_id\\n;target_lemma\\n;rel_type\\n)Verbframesonlyapplytoverbsandthesyntacticrestriction\\nmarker(\\nsyn_marker\\n)onlytoadjectives.Thelexicographer\\nname(\\nlex_name\\n)ofasynsetandthelexical\\n(lex_id\\n)ofawordsenseareonlyneededforgeneratinglex-\\nicographerthelexidisusedinlexicographerto\\ndisambiguatebetweenthedifferentsensesofaword.\\nFigure3showstheinformationextractedtotherelation\\nfromthethesynsetinFigure2.Synsetidsareinthe\\n\\nformatusedintheFiWNtranslationsdescribedinSec-\\n\\ntion3.1.,exceptthattheyareedwithalanguagecode.\\n\\nTherelationtypesusethePWNpointersymbols:\\n@denotesahypernymand\\n+aderivationallyrelatedform.Lexicalre-\\nlationscontainthetargetlemmaoftherelation,whichisnot\\n\\ndirectlypresentinthesynsetentrybuthastoberetrieved\\n\\nfromthetargetsynsetwhenextractingtherelations.\\n3.RepresentingTranslations\\nInthissection,wepresentdifferentrepresentationsoftrans-\\n\\nlationsusedfortheFiWNdata:thetranslationspro-\\n\\nducedbythetranslators,thetranslationsextractedtoare-\\nlation,thetranslationrepresentationsusedinthePWNand\\nrelationaldatabaseformats,synsettranslationlinkingvia\\n\\nCoreWordNet,andtranslationtransducers.\\n7http://wordnet.princeton.edu/wordnet/man/senseidx.5WN.\\nhtmlen:109833536|18||someonewhobakesbreadorcake\\nen:109833536|en:110605985|@en:109833536|baker|0|en:109833536|breadmaker|0|\\nen:109833536|baker|en:201663749|bake|+Figure3:PWNdatarelationsforthesynset{\\nbaker,bread\\nmaker\\n}:synsets,semanticrelations,wordsensesandlex-\\nicalrelations(\\n|denotesatabseparating\\n3.1.FinnWordNetTranslationsFile\\nTheXMLcontainingtheFinnishtranslationsofthe\\nPWNwordsensesisorganizedbyPWNsynsets.Thein-\\n\\nformationforasynsetcontainsasynsetid,glossandhy-\\n\\npernymlinks,andforeachsynonym,itssensenumber,the\\nEnglishwordinPWNanditsFinnishtranslations.This\\ninformationservedasthetranslationcontextforthetrans-\\n\\nlators(LindénandCarlson,2010).Figure4showsasome-\\n\\nwhatsampleentryinthetranslationscorres-\\n\\npondingtothesynsetinFigures2and3.\\n<SYNSETID=\"109833536\">\\n<GLOSS>someonewhobakesbreadorcake</GLOSS>\\n<HYPERS><HYPERID=\"110605985\">skilled_worker</HYPER>\\n</HYPERS><SYNONYMSENSE=\"2\">\\n<TuvLang=\"EN-US\">baker</Tuv>\\n<TuvLang=\"FI\">leipuri</Tuv>\\n</SYNONYM>\\n<SYNONYMSENSE=\"1\">\\n<TuvLang=\"EN-US\">breadmaker</Tuv>\\n<TuvLang=\"FI\">leipuri<tai/>paakari</Tuv>\\n</SYNONYM></SYNSET>Figure4:Translationsentryforthesynset{\\nbaker,\\nbreadmaker\\n}\\nThetranslationsusesasasynsetidanine-digitnumber\\nconsistingoftheoffsetofthesynsetinthePWN3.0data\\nedwithapart-of-speechcode(1...4).Ineffect,\\nthetranslationsawordsensebythesynsetid\\n\\nandtheEnglishword;thesensenumberisredundant.\\n\\nThetranslationrelationismany-to-many:anEnglishword\\n\\nsensemayhaveseveraldifferentFinnishtranslations,and\\n\\nseveraldifferentEnglishwordsinthesamesynsetmayhave\\nthesameFinnishtranslation.Multipletranslationsofan\\nEnglishwordsenseareseparatedbytheemptyXMLele-\\n\\nment<tai/>(meaning`or\\').Glosseswereleftuntranslated\\nbecauseofresourceconstraints.\\n\\nAnumberoftheFinnishtranslationsalsocontaintranslat-\\n\\nors\\'commentsintheformofXMLelements(Lindénand\\nCarlson,2010,129Œ130).Commentsareusedtoindicate\\nthatatranslationisinexact,broaderornar-\\n\\nrowerthantheoriginal,ortheymaybefree-form.\\n3.2.FinnWordNetTranslationsasaRelation\\nSomeoftheinformationinthetranslationsisunneces-\\nsaryorredundantforconstructingtheFiWNdatabase.To\\n\\nsimplifyfurtherprocessing,weextractfromtheXML\\n\\nalistofwordsensescontainingthesynsetid,theEnglish\\n\\nwordandthecorrespondingFinnishtranslation.Moreover,\\n2441tomaketheamoregeneraltranslationmapping,wepre-\\nthesynsetidwith\\nenforEnglishandaddanothersynset\\nidforthetranslation,with\\nforFinnish.\\n8Wealso\\nconvertthepossibletranslators\\'commentstothetypeof\\n\\nthetranslationrelationandextractfree-formcommentstoa\\n\\ncommentTherelationtypeindicateswhetheratrans-\\n\\nlationisexactorapproximate,orbroaderornarrowerthan\\n\\ntheoriginal,correspondingtotheEuroWordNettranslation\\n\\nrelationtypes\\neq_synonym(default),\\neq_near_synonym,eq_has_hypernymandeq_has_hyponym(Petersetal.,\\n1998,152Œ153).TheresultisarelationmappingEnglish\\n\\nwordsensestotheirFinnishtranslations:\\nTRANSLATIONS\\n(synset_id_en;lemma_en;;;transl_type\\n;comment)Figure5showsthetranslationrelationsextractedfromthe\\nXMLentryinFigure4,withemptycommentsand\\n=indic-atingeq_synonym.en:109833536|baker|fi:109833536|leipuri|=|en:109833536|breadmaker|fi:109833536|paakari|=|\\n\\nen:109833536|breadmaker|fi:109833536|leipuri|=|\\nFigure5:Translationrelationsfor{\\nbaker,breadmaker\\n}.3.3.TranslationsinthePWNDatabase\\nThePWNdatabaseandlexicographerformatsarerather\\nrigid:theydonotsupportaddingothertypesofinforma-\\n\\ntionthanwhatispresentinPWN(words,relationpointers,\\nglossesandverbframes).Theylackfacilitiesforrepres-\\nentingtranslations,commentsorotherinformationthatwe\\n\\nwouldliketoattachtowordsensesorsynsets.\\n\\nSincesometranslationscontainedtranslators\\'commentsas\\n\\nXMLelements,wedecidedtorepresentthetranslationsof\\nawordsenseinanXMLelement(\\ntr)attachedtothelemma.\\nTheWebsearchinterfacesoftwarerecognizestheseele-\\nmentsintheoutputofthePWNsearchtoolandformats\\n\\nthemappropriately,asshowninFigure6.\\nOverviewofnounleipuri\\nThenounleipurihas2senses(nosensesfrom\\ntaggedtexts)\\n1.leipuri<tr>baker</tr>-(someonewhobakes\\ncommercially)\\n2.leipuri<tr>baker</tr>,leipuri<tr>bread\\nmaker</tr>,paakari<tr>breadmaker</tr>-\\n(someonewhobakesbreadorcake)\\nOverviewofnounleipuri\\nThenounleipurihas2senses(nosensesfromtaggedtexts)\\n1.leipuri[baker]Œ(someonewhobakescommercially)\\n2.leipuri[baker,\\nbreadmaker],\\npaakari[\\nbreadmaker]Œ(someonewho\\nbakesbreadorcake)\\nFigure6:Theoutputofthecommand\\nwnleipuri\\n-overusingtheFinnishŒEnglishdatabaseandthecorres-\\npondingFiWNWebinterfacesearchresult.Anunderlined\\nwordlinkstoasearchfortheword.\\nThechosenrepresentationoftranslationsmeansthatwe\\nhavetogenerateseparateversionsoftheFiWNdatabase\\n8Forourpurposes,itsuftoidentifyuniquelythesynsets,\\nsowealsobasetheFinnishsynsetidsonthePWNsynsetoffsets.\\ninthePWNdataformatforEnglishŒFinnishtranslations\\n\\n(PWNdatawithFinnishtranslationsattached)andFinnishŒ\\n\\nEnglishones(FinnishtranslationswithEnglishoriginal\\nwordsattached).\\n3.4.TranslationsintheRelationalDatabase\\nWeuseaversionoftheGermaNetdatabase\\nschema(HenrichandHinrichs,2010a,2234Œ2235),exten-\\n\\ndedwithatranslationrelation.Althoughweregardthe\\n\\ntranslationrelationbetweenwordsenses(\\nlexicalunits\\ninGermaNet)asprimary,wealsoatranslationrelation\\n\\nbetweensynsetsforcompatibilitywithapproachesaligning\\n\\ntranslationsatthesynset(semanticor\\nconceptual)level.\\nWeuseseparatetablesforthetranslationrelationsinstead\\n\\nofrepresentingthemasordinarylexicalorsemanticrela-\\n\\ntions,becausetheyneedtwoextra\\ntransl_type\\nandcomment,usedtoencodethecorrespondinginformationin\\nTRANSLATIONS\\n;seeSection3.2.\\nThesynset-leveltranslationrelationisinferredautomat-\\n\\nicallyfromthelexicalonebyaddingatranslationrela-\\n\\ntionbetweenthesynsetstowhichthewordsofalexical\\n\\ntranslationrelationbelong;basically,itistheprojection\\n\\npsynset_id_en,(TRANSLATIONS\\n).Inadditiontothat,\\nweinferthesynset-leveltranslationrelationtypebasedon\\n\\nthetranslationrelationsofthewordsensesinthesynset:if\\n\\nallthewordsenseshavethesametranslationrelationtype,\\n\\nthesynsettranslationrelationwillhavethesametype;oth-\\n\\nerwise,ifanyofthemisanexacttranslation(\\neq_synonym),thesynsettranslationisalso;otherwisethesynsettransla-\\ntionisapproximate(\\neq_near_synonym).Ifatranslationforawordsenseismissing,wecanuse\\nsynset-leveltranslationsasadefault:thetranslationsofa\\n\\nwordsense\\nw1insynset\\nS1areallthewordsenses\\nw2insynsetS2whenS2isatranslationof\\nS1.Figure7showsaoutlineofthedatabaseschema,\\n\\nwithourextensionstotheGermaNetschemainitalics.\\nLexicalrelation\\nfrom:Wordsense\\nto:Wordsense\\n\\n\\nSemanticrelation\\nfrom:Synset\\n\\nto:Synset\\n\\n\\nWordsense\\nsynset:Synset\\n\\n\\n\\nlanguage:languagecode\\n\\ncomment:text\\nlexid:int\\nSynset\\nlanguage:languagecode\\n\\nsynsetid:text\\nLexicaltranslationrelation\\nfrom:Wordsense\\nto:Wordsense\\ntransl_type:\\nf=;<;>;\\nˇg\\ncomment:text\\nSemantictranslationrelation\\nfrom:Synset\\nto:Synset\\ntransl_type:\\nf=;<;>;\\nˇg\\ncomment:text\\nFigure7:FiWNdatabaseschemawiththeex-\\ntensionstotheGermaNetschemainitalics.\\nWerepresentthesynsetsandwordsensesofbothFiWN\\nandPWNinthesametables.Wethusneedalanguage\\n\\ninboththe\\nSynsetandWordsense\\ntables.Synsets\\n2442aretoallowfordifferentlexicalizations\\nindifferentlanguagesinthefuture.\\nThesynsetid\\ninthe\\nSynsettablecontainstheFiWN\\norPWNsynsetid,whichenablesmappingthesynsetsback\\ntoPWNsynsets.Itisdifferentfromtheinternalid(key)\\n\\ninthe\\nSynsettable.The\\ncommentin\\nWordsense\\nmaycontain,forexample,informationontheregisterorusage\\n\\noftheword.The\\nlexid\\nin\\nWordsense\\nisonlyusedto\\nsavethelexidofthe(PWN)wordsensessothatthedata\\ncanbeusedtogeneratelexicographerwiththesame\\nlexidsastheoriginalPWNdata,thusalsopreservingthe\\n\\nPWNsensekeysforwordsenses.\\n3.5.SynsetTranslationsviaCoreWordNet\\nOneofthegoalsoftheMETA-NORDprojectistolinkthe\\ncoresensesofDanish,Estonian,Finnish,Norwegianand\\nSwedishwordnets(Pedersenetal.,2012).Astheseword-\\n\\nnetsvaryintheircontentandformat,theyarelinkedvia\\n\\nCoreWordNet(CoreWN),consistingofalmost5,000core\\n\\nsensesofPWN.TheapproachresemblesthatofEuroWord-\\n\\nNet,exceptthatCoreWNisusedinsteadofaninterlingual\\nindex.\\nForeachwordnet,amappingrelationisconstructedforthe\\nsenses(synsets)withcorrespondencestoCoreWNsenses.\\n\\nThemappingrelationconsistsofCoreWNsynsetid(asa\\n\\nPWNsensekey),thecorrespondingsynsetidoftheother\\nwordnet,translationrelationtype(theEuroWordNettypes)\\nandaweight.SinceFiWNhasdirectwordsensecorres-\\n\\npondenceswithPWNandthusalsoCoreWN,itiseasy\\n\\ntoconstructthemappingbetweenFiWNandCoreWNby\\n\\nprojectingthetranslationrelationontosynsetidsandtrans-\\n\\nlationtype,selectingthesynsetspresentinCoreWNand\\naddingafullweight.\\nThetranslationinlanguage\\nL1ofasynsetinthewordnet\\noflanguage\\nL2isgenerallyretrievedviatheintermediate\\nCoreWNsynset.Sometimes,however,thetwolanguages\\nmayhaveonlyanon-exacttranslationrelationtoCoreWN,\\neventhoughtheywouldhaveanexacttranslationwitheach\\nother.Suchdirecttranslationrelationscanbeaddedsepar-\\n\\natelytooverridethedefaultindirectones.\\nTheresultingmultilingualwordnetwithtranslationrela-\\ntionsbetweensynsetscouldbestoredusingthe\\n\\ndatabaseschemapresentedinSection3.4.,althoughonly\\nsynset-leveltranslationswouldbeused.\\n93.6.TranslationTransducers\\nThePWNŒFiWNtranslationrelationcanalsoberepres-\\nentedasatransducer(FST)thattransducesan\\n\\ninputwordinonelanguagetoitstranslationsintheother\\n\\nlanguage,effectivelyfunctioningasabilingualdictionary.\\nWehaveusedtheHFSTtools(Lindénetal.,2009)togen-\\nerateFSTs.TheFiWNtranslationrelationiscon-\\n\\nvertedtotheHFST-LexCformat,whichisthencompiled\\n\\nintoanFST.Composedwithamorphologicalanalyserof\\n\\nthesourcelanguage,theFSTrecognizesformsof\\nwordsandtranslatesthem(withthebaseformofthetar-\\ngetword).Ifsynsetidsareretainedinthetransduction,the\\n\\nresultcanbegroupedbysense.\\n9Theweightmissingfromtheschemacouldeasilybeadded.\\nAdemoofthetranslationFSTsisavailable.\\n10Thedemo\\nalsoincludessynonymFSTsconstructedfromtheFiWN\\n\\ndataonthesameprinciple;composedwithamorphological\\ngenerator,asynonymFSTworksasathesaurus\\ntheoutputsynonymsinthesameformastheinputword.\\n4.ConstructingtheFiWNDatabase\\nToconstructtheFiWNdatabase,wejointhedatarelations\\n\\nextractedfromthePWNdatabasewiththeFinnish\\n\\ntranslationrelation.FromtheresultingFiWNrelations,\\nwecreateadatabaseinthePWNformat(vialexicographer\\nontheonehand,andarelationaldatabaseontheother.\\n4.1.CombiningTranslationswiththePWNStructure\\nThetranslationcombinerprogramcombinestheFiWN\\ntranslationsrelationwiththePWNdatarelationsto\\n\\ncreatethecorrespondingFiWNdatarelationsSince\\n\\nthesynsetsandsemanticrelationsaretransferredfrom\\nPWNtoFiWNassuch,weonlyneedtoconsiderword\\nsensesandlexicalrelations.\\nBasically,thetranslationcombinerjoinsthePWNword\\nsenserelationwiththetranslationrelationonthePWNsyn-\\nsetidandtheEnglishword(lemma),andprojectsontothe\\n\\nsynsetidandtheFinnishtranslations:\\nWORD\\n_SENSES\\n_FI=p;(WORD\\n_SENSES\\n_EN\\n1WS_EN\\n.synset_id=TR.synset_id_en;WS_EN\\n.lemma=TR.lemma_enTRANSLATIONS\\n)Lexicalidsaregeneratedbythelexicographercreator.\\nThelexicalrelationsrelationisjoinedtwicewiththetrans-\\nlationrelation:onceforthesourcesynsetidandlemma,\\nandthesecondtimeforthetarget.Fromtheresult,were-\\nmoveinformationunlikelytoapplytoFinnish:adjective\\n\\nsyntacticrestrictionmarkersandverbframes.Wealsore-\\n\\nmovethosederivationallyrelatedformandparticiplerela-\\n\\ntionsthatareunlikelytobevalidfortheFinnishtransla-\\n\\ntions.Figure8showstheFiWNdatarelationscorrespondingto\\nthePWNdatarelationsinFigure3combinedwiththetrans-\\n\\nlationsinFigure5.\\nfi:109833536|18||someonewhobakesbreadorcake\\nfi:109833536|fi:110605985|@fi:109833536|leipuri||fi:109833536|paakari||fi:109833536|leipuri|fi:201663749|leipoa|+Figure8:FiWNdatarelationsforthetranslationofthesyn-\\nset{\\nbaker,breadmaker\\n}:asynset,asemanticrelation,\\nwordsensesandalexicalrelation.\\n4.2.CreatingtheFiWNDatabaseinPWNFormat\\nWegeneratetheFiWNdatabaseinthePWNdatabase\\nformatvialexicographerprocessedbyaver-\\n\\nsionofthePWNGrindprogram.\\n10http://wwwbin/omor/omordemo.bash\\n2443ToproduceaFiWNdatabasewithtranslationsattachedto\\nwords,thelexidgeneratoroptionallyattachestrans-\\n\\nlationsfromtheFiWNtranslationrelationtotheFiWNor\\nPWNwordsenses.Itthengenerateslexidsfortheres-\\nultingwords.Alexidmustbeuniquewithregardtothe\\n\\ncombinationoflexicographerandthenormalizedform\\n\\noftheFinnishwordthatisusedforindexingandsearching\\n\\ntheFiWNdatabaseinthePWNformat.\\nThelexicographercreatorthencreateslexicographer\\nbasedontheinformationintheFiWNdatarelations\\n\\npreparedforlexicographerThesynsetsaredividedin\\n\\nlexicographerinthesamemannerasinPWN.\\nTheGrindprogramgeneratesthePWN-formatdatabase\\nfromthelexicographerWehaveGrindto\\n\\nmakeitworkwiththeFiWNdataencodedinUTF-8.When\\n\\nnormalizingwords,theGrindremovesallXML\\nmarkup,inadditiontolowercasingthewords.Thenormal-\\nizedwordsareusedforsearching,whereastheunnormal-\\n\\nizedwordsarestoredinthedataassuch.Thisenables\\n\\nustosearchforawordandgetitstranslationwithit.\\nFigures9and10showexamplesoflexicographeranddata\\nentriesfortheFinnish-onlyandFinnishŒEnglishFiWN\\n\\ndatabaseinthePWNformat,respectively.\\n{[leipuri,verb.creation:leipoa,+]paakari,\\nammattitaitoinen_työntekijä,@(someonewhobakes\\n\\nbreadorcake)}\\n0964761718n02leipuri0paakari0002@\\n10401982n0000+01575875v0101|someonewho\\nbakesbreadorcake\\nFigure9:Finnish-onlylexicographeranddataforthe\\ntranslationof{\\nbaker,breadmaker\\n}.{[leipuri<tr>baker</tr>,\\nverb.creation:leipoa<tr>bake</tr>,+]\\nleipuri<tr>bread_maker</tr>2,paakari<tr>bread_maker</tr>,ammattitaitoinen_työntekijä<tr>skilled_worker</tr>,@(someonewhobakesbreadorcake)}\\n1180355118n03leipuri<tr>baker</tr>\\n\\n0leipuri<tr>bread_maker</tr>2\\npaakari<tr>bread_maker</tr>0002@12738550\\n\\nn0000+01907249v0101|someonewhobakes\\nbreadorcake\\nFigure10:FinnishŒEnglishlexicographeranddata\\nentriesforthetranslationof{\\nbaker,breadmaker\\n}.4.3.CreatingtheFiWNRelationalDatabase\\nConstructingthePWN/FiWNrelationaldatabaseis\\nstraightforward:thePWNdatarelations,FiWNdatarela-\\n\\ntionsandthePWNŒFiWNtranslationrelationareconver-\\n\\ntedtorowsofthecorrespondingdatabasetablesandloaded\\n\\nintoanappropriatedatabasemanagementsystem.\\n11Afterthat,appropriateindexesarecreatedtoimprovetheper-\\nformanceofthedatabase.\\n11TheversionofthedatabaseloaderwaswrittenbyVerena\\nHenrich.5.TestingtheData\\nTestingtheFiWNdatacanberegardedasconsistingoftwo\\n\\nparts:testingthetechnicalcorrectnessofthecreated\\ndatabase,andsecond,evaluatingthequalityofthetransla-\\n\\ntionsthemselves.\\n\\nWehavetestedthecorrectnessofthecreatedFiWNdata-\\n\\nbasebyrandomlytestingthattheinformationoriginating\\n\\nfromPWN(synsets,synonymsandrelations)andthetrans-\\nlationsofthewordsenseshavebeencorrectlytransferredto\\nthedatabase.ForthePWNdatabaseformat,wehaveused\\n\\nthecommand-linesearchtoolandtheWebinterfacebased\\n\\nonittotestthedatabaseinteractively.\\n\\nSincetheFiWNdatabaseiscreatedinseveralsteps,most\\n\\nofwhichconvertdatafromonerepresentationtoanother,\\neachofthestepscanbetestedseparately.\\nBasedonanevaluationofthequalityofthetranslationsin\\n\\nFiWN,weestimatedthatonly0\\n:50:3%oftheevaluated\\ntranslationsshouldbereplaced,whichwedeemtoindicate\\n\\nagoodqualityofhumantranslation(Niemietal.,2012).\\n6.DiscussionandFutureWork\\nIngeneral,wehavefoundthedifferentwordnetandtrans-\\n\\nlationrepresentationsusefulforvarioustasks.\\n6.1.TranslationRepresentations\\nTheFiWNdatamodelrepresentstranslationsbetween\\nwordsenses(orsynsets)directlybetweentwolanguages,\\n\\nwithoutaninterlingualindexorothermediatingstructure.\\n\\nIfthesamedatabaseandtranslationrelationisusedtorep-\\n\\nresentmorethantwolanguages,onelanguage(typically\\n\\nEnglish)canbechosenasaninterlinguaofakindtoover-\\ncometheexplosioninthenumberoflanguagepairs.Adis-\\nadvantageofthisapproachisthepartialitytothelanguage\\n\\nchosenastheinterlingua.\\n\\nThedifferentFiWNtranslationrepresentationspresentedin\\n\\nSection3.aresuitablefordifferentuses.\\nThetranslationsinXMLformatservedwellinthe\\nactualtranslationprocessbyprofessionaltranslators:the\\n\\nformatwastailoredtoworkwiththeTradostranslation\\n\\nmemorysoftwareusedbythetranslators(Lindénand\\n\\nCarlson,2010).Itwasnotmeanttobeacompleterep-\\n\\nresentationofthestructureofawordnetbuttoserveasa\\ntranslationcontext.\\nTherelationalrepresentationofthetranslationswasuse-\\n\\nfulasanintermediateformatforaddingthetranslationsto\\n\\ntheFiWNdatabases.Itwassimplertoprocessthanthe\\n\\nXMLandconsistentwiththeotherrelationJoined\\n\\nwithotherinformationfromtheFiWNrelations,thisdata\\nhasbeenusedtoverifyselectedtranslationsmanuallyand\\ntocorrectthemwhenappropriate.\\n\\nRepresentingtranslationsinthePWNdatabaseformaten-\\n\\nabledustobuildtheFiWNWebsearchinterfaceontopof\\n\\nthePWNsearchsoftware.Thepubliclyavailablesearchin-\\n\\nterfacehasbeenused,forexample,asanonlinethesaurus\\nandabilingualdictionary,togatherfeedbackonthesyn-\\nonymsandtranslationsinFiWN,andtoevaluatetheuse-\\n\\nfulnessofawordnetforhumans(MuhonenandLindén,\\n\\n2011).InsteadofattachingtranslationsinXMLelements,\\n\\nanyotherrepresentationcouldbeused,aslong\\nasGrindistorecognizeit.\\n2444Therelationaldatabaseformatisarecentdevelopment,but\\nweexpectittohelpusinexpandingFiWNtomakeita\\n\\ntrulyFinnishwordnet.Itcanalsobeusedasthesource\\nformatforotherrepresentations,eitherdirectlyorviaplain-\\ntextrelation\\n\\nLinkingsynsettranslationsviaCoreWordNetissimilarly\\n\\nnew.Itmadeitpossibletolinkseveralwordnetsbuilton\\n\\ndifferentprinciplesandusingdifferentformats,notallof\\n\\nthemhavingword-sensecorrespondenceswithCoreWN.\\nTheFSTrepresentationcanbeusedasastand-alonedic-\\ntionarylookupthatalsorecognizesformsofthe\\n\\nsource-languageword.Integratedwithothersoftware,such\\n\\nasaWebbrowserorawordprocessor,itmightbehelpfulas\\n\\natranslator\\'stool.ThedictionaryFSTsarelarge,however,\\n\\ninparticularifsynsetinformationisincluded.\\n6.2.DataRepresentations\\nThePWNdatabaseformatisveryspecializedanddif\\ncultorimpossibletoextendwithoutbreakingcompatib-\\n\\nilitywithexistingsoftware.Moreover,datainthePWN\\n\\ndatabasecannotbeediteddirectlybutonlyviathesource\\n\\nlexicographerwhicharethencompiledintothedata-\\nbase.12Makingevensmallchangestothedatarequiresre-\\ncompilation,andasnotedbyHenrichandHinrichs(2010a),\\neditinglexicographerislaboriousanderror-prone.The\\n\\nlackofpermanentforsynsetsalsomakesitmore\\n\\ndiftorefertoasynset:usingeoffsetsre-\\nquirestakingthedataversionintoaccount,sincewhenthe\\ndataischanged,thesynsetoffsetsmayalsochange.\\n\\nInspiteofalltheaboveweit\\n\\ntosupportthePWNdatabaseformatasoneofthedata\\n\\nformatsforFiWN,sinceitissupportedbyvariouspieces\\n\\nofsoftware,eventhoughtheymaylackthesupportfor\\nUTF-8-encodeddatarequiredforFiWN.Nevertheless,we\\nthinkthatthelexicographershouldbegeneratedfrom\\n\\naprimaryrelationalrepresentationofthedata.\\n\\nArelationalrepresentationofdataisconceptuallysimple\\n\\nanditcanbeoperatedonusingoperations.It\\n\\nisalsoextensibleandportable,eventhoughaphysicalrep-\\nresentationoftherelationsinarelationaldatabasemanage-\\nmentsystemisnot.Forexample,newtypesofsemanticor\\n\\nlexicalrelationscaneasilybeadded.\\n\\nIntherelationalrepresentation,thepiecesofinformation\\n\\nconcerningasingleentity,suchasasynset,arescatteredin\\n\\nseveraldifferentrelations.Theycouldbegatheredtogether\\ninastructuredrepresentationofthedatainanXMLformat.\\nOtheradvantagesofanXMLformatincludestandard(or\\n\\nindustry-standard)meansforprocessingdataandpossible\\n\\nhuman-readability.BecauseofthesizeoftheFiWNdata,\\n\\nhowever,processingthedatainXMLwouldverylikelybe\\nslowerthaninarelationaldatabase.AnXMLformatcould\\nneverthelessbeusefulasaninterchangeformat.\\n\\nWordnet-LMF(Soriaetal.,2009)isaﬁdialectﬂora\\n\\nconcreteXMLinstantiationforwordnetsoftheLexical\\n\\nMarkupFramework(LMF),astandard(ISO24613)for\\n\\nlexicalresourcerepresentation.ForFiWN,Wordnet-LMF\\nshouldbeextendedasproposedbyHenrichandHinrichs\\n12However,thefreeextJWNLJavalibrary(http://extjwnl.\\nsourceforge.net/)ispromotedasbeingcapableofdirectlymodi-\\nfyingawordnetdatabaseinthePWNformat.\\n(2010b),tosupportlexicalrelations,althoughtheother\\nextensionswouldnotcurrentlybeusedforFiWN.Fur-\\n\\nthermore,Wordnet-LMFonlyhasatranslationrelation\\nbetweensynsets,soitshouldbeextendedtocoveralso\\ntranslationsbetweenwordsenses.Theextensionwouldap-\\n\\npeareasyusingthesamemultilingualnotationsextension\\n\\nmechanismasforsynsettranslations.\\nAslongasweonlyaddtoFiWNnewtranslationsofPWN\\nwordsenses,wecouldaddthemtotheFiWNtranslations\\n\\n(XMLorrelationandcombinethemwiththePWN\\n\\ndatarelations.However,whenFiWNisextendedbeyond\\n\\nbeingatranslationofPWNbyaddingsynsetsorsemantic\\n\\norlexicalrelations,thenewdatashouldbeaddedtothe\\nFiWNdatarelationsortherelationaldatabase,fromwhich\\nthedatacanbegeneratedinotherformats.\\n6.3.ImprovingFinnWordNet\\nOuraimistoextendandimproveFiWNinseveralways.\\nWewishtoaddbothnewsynonymstoexistingsynsetsand\\n\\ncompletelynewsynsetstocoverthecurrentgaps.Weare\\n\\nusingWikipediaandWiktionaryassourcesofnewsyn-\\nonymsforexistingwords(Niemietal.,2012).Wealso\\nplantoaddmissingfrequentcompoundwordsashyponyms\\n\\nofexistingsensesbasedonthepartofthecompound\\n\\n(PääkköandLindén,2012).Althoughcandidatesforaddi-\\n\\ntionareproducedsemi-automaticallyandalthoughtheyare\\nalsoaddedtotherelationsinbatch,weexpectGernEdiTto\\nbeusefulformanualv\\n7.RelatedWork\\nTheEuroWordNetproject(Vossen,1998)combinedseveral\\n\\nindependentwordnetsbylinkingthemviaanInter-Lingual\\n\\nIndex(ILI)(Petersetal.,1998;Vossen,2004)tocreatea\\nmultilinguallexicaldatabase.TheILIisanunstructuredlist\\nofconcepts,towhichthesynsetsintheindividualwordnets\\n\\narelinked.AlinkfromasynsettoanILIconcept\\n\\nthatthesynsetrepresentsasynonym,near-synonym,hyper-\\n\\nnymorhyponymoftheILIconcept.Therelationsbetween\\n\\ntheILIconceptsareprovidedbythewordnets.Inaddition,\\nsomelanguage-independentrelationsareprovidedbyaTop\\nConceptontologyanddomainlabels,alsolinkedtoILI\\n\\nconcepts.Asafurtherdevelopment,FellbaumandVossen\\n\\n(2008)outlineGlobalWordNetlinkingdifferentwordnets\\n\\nviaalanguage-independentstructuredformalontology.\\nTheILIapproachexplicitlyallowsfordifferentlexicaliza-\\ntionsofconceptsindifferentlanguages,whereasFiWNat\\n\\npresentmostlymirrorstheEnglishlexicalizationsofPWN,\\n\\neventhoughforsomewordsensestheFiWNtranslationre-\\nlationcontainsthetypeofthetranslationderivedfromthe\\ntranslators\\'comments.SinceEuroWordNetbasedILIcon-\\n\\nceptsonPWN(version1.5)synsets,weexpectthatmap-\\n\\npingFiWNsynsetstoILIconceptswouldbefairlystraight-\\n\\nforward.Theadvantageofdirecttranslationwasthatital-\\n\\nlowedarelativelyfastcreationofafull-scalestand-alone\\nwordnetforFinnishanditsbilingualversions,whichcan\\nbesearchedwiththePWNsearchtool.\\nFiWNismoresimilartotheapproachadoptedinMulti-\\nWordNet(MWN)(Piantaetal.,2002),originallyforthe\\nItalianwordnet,lateralsoforseveralothers.MWNlinks\\n2445synsetsdirectlytoPWNsynsetswheneverpossibleandre-\\nusesthesemanticrelationsofPWN,althoughtheycanbe\\n\\noverriddenifnecessary.Lexicalgapscanbeexplicitlyrep-\\nresentedbyemptysynsetsandlexicalizationdifferencesby\\nanearest\\nrelationtoamoregeneralormoresynset.\\nInMWN,atranslationrelationisbetweensynsets,\\n\\nwhereasinFiWNitisbetweenwordsenses.\\n8.Conclusion\\nFinnWordNetisaFinnishwordnet,currentlyadirecttrans-\\n\\nlationofthewordsensesofthePrincetonWordNet.We\\n\\nbelievethattranslationsatthelevelofwordsensesareable\\n\\ntoexpressdistinctionsoftranslationcorrespondences\\nthanthoseatthesense(synset)level.\\nTheFiWNdatabasewascreatedbyextractingthestructure\\nofPWNasrelationsandbyjoiningwithittheFinnishtrans-\\n\\nlations.TheFiWNdatabasehasbeengeneratedbothinthe\\n\\nPWNdatabaseformatandinarelationaldatabaseformat.\\n\\nWeconsiderthesuccessfulcreationoftheFiWNdatabases\\nasaproofofthetechnicalcorrectnessoftheconstruction\\nmethods.InthePWNdatabaseformat,translationsofwordsenses\\nareattachedtotheoriginalwords,whereasintherelational\\n\\ndatabasetheyarerepresentedasarelationoftheirown.\\nThedatabaseinthePWNformatisusedintheFiWNWeb\\nsearchinterface.Futurechangestothedatawillbemade\\n\\ntotherelationalformat,fromwhichthePWNdatabasecan\\n\\nalsobegenerated.\\n9.Acknowledgements\\nWethankouranonymousreviewersfortheircomments.\\n\\nWearegratefultoVerenaHenrichforfruitfulcooperation\\n\\ninmattersrelatedtoGermaNetandGernEdiT.Thiswork\\n\\nwasfundedbytheFIN-CLARIN(Finnish)andMETA-\\nNORD(EC)projects.\\n10.References\\nChristianeFellbaumandPiekVossen.2008.Challenges\\nforaGlobalWordNet.In\\nProceedingsoftheFirstInter-\\nnationalConferenceonGlobalInteroperabilityforLan-\\nguageResources(ICGL2008)\\n,pages75Œ82.CityUni-\\nversityofHongKong.\\nChristianeFellbaum,editor.1998.\\nWordNet:AnElectronic\\nLexicalDatabase\\n.MITPress,Cambridge,MA.\\nGlobalWordNetAssociation.2012.\\nProceedingsofthe6th\\nInternationalGlobalWordnetConference(GWC2012)\\n,Matsue,Japan.\\nVerenaHenrichandErhardHinrichs.2010a.GernEdiTŒ\\ntheGermaNeteditingtool.In\\nProceedingsoftheSev-\\nenthConferenceonInternationalLanguageResources\\n\\nandEvaluation(LREC\\'10)\\n,pages2228Œ2235,Val-\\nletta,Malta.EuropeanLanguageResourcesAssociation\\n\\n(ELRA).VerenaHenrichandErhardHinrichs.2010b.Standardiz-\\ningwordnetsintheISOstandardLMF:Wordnet-LMF\\n\\nforGermaNet.In\\nProceedingsofthe23rdInternational\\nConferenceonComputationalLinguistics\\n,pages456Œ\\n464,Stroudsburg,PA,USA.AssociationforComputa-\\n\\ntionalLinguistics.\\nKristerLindénandLauriCarlson.2010.FinnWordNetŒ\\nWordNetpåviaöversättning.\\nLexicoNordicaŒ\\nNordicJournalofLexicography\\n,17:119Œ140.\\nKristerLindén,MiikkaSilfverberg,andTommiPirinen.\\n2009.HFSTtoolsformorphologyŒanefopen-\\n\\nsourcepackageforconstructionofmorphologicalana-\\n\\nlyzers.InCerstinMahlowandMichaelPiotrowski,ed-\\nitors,StateoftheArtinComputationalMorphology\\n,volume41of\\nCommunicationsinComputerandInform-\\nationScience\\n,pages28Œ47.Springer,Berlin,Heidel-\\nberg.\\nKristiinaMuhonenandKristerLindén.2011.Doword-\\nnetsalsoimprovehumanperformanceonNLPtasks?In\\nBoletteSandfordPedersen,GuntaNeıpore,andInguna\\n\\nSkadin¸a,editors,\\nProceedingsofthe18thNordicCon-\\nferenceofComputationalLinguisticsNODALIDA2011\\n,volume11of\\nNEALTProceedingsSeries\\n,pages146Œ\\n152.NorthernEuropeanAssociationforLanguageTech-\\n\\nnology(NEALT).\\nJyrkiNiemi,KristerLindén,andMirkaHyvärinen.2012.\\nUsingabilingualresourcetoaddsynonymstoawordnet:\\n\\nFinnWordNetandWikipediaasanexample.InGlobal\\nWordNetAssociation(2012),pages227Œ231.\\nPaulaPääkköandKristerLindén.2012.Findingalocation\\nforanewwordinWordNet.InGlobalWordNetAssoci-\\nation(2012),pages286Œ293.\\nBoletteSandfordPedersen,LarsBorin,MarkusForsberg,\\nKristerLindén,HeiliOrav,andEiríkurRögnvaldsson.\\n\\n2012.LinkingandvalidatingNordicandBalticword-\\n\\nnets:AmultilingualactioninMETA-NORD.InGlobal\\n\\nWordNetAssociation(2012),pages254Œ260.\\nWimPeters,PiekVossen,PedroDíez-Orzas,andGeert\\nAdriaens.1998.Cross-linguisticalignmentofword-\\n\\nnetswithaninter-lingual-index.InVossen(1998),pages\\n\\n149Œ179.EmanuelePianta,LuisaBentivogli,andChristianGir-\\nardi.2002.MultiWordNet:developinganalignedmul-\\ntilingualdatabase.In\\nProceedingsoftheFirstInterna-\\ntionalConferenceonGlobalWordNet\\n,pages293Œ302,\\nMysore,India.\\nClaudiaSoria,MonicaMonachini,andPiekVossen.2009.\\nWordnet-LMF:outastandardizedformatfor\\n\\nwordnetinteroperability.In\\nProceedingsofthe2009\\ninternationalworkshoponInterculturalcollaboration\\n,pages139Œ146,NewYork,NY,USA.ACM.\\nPiekVossen,editor.1998.\\nEuroWordNet:Amultilingual\\ndatabasewithlexicalsemanticnetworks\\n.KluwerAca-\\ndemicPublishers,Dordrecht.\\nPiekVossen.2004.EuroWordNet:amultilingualdatabase\\nofautonomousandwordnetsconnec-\\ntedviaanInter-Lingual-Index.\\nInternationalJournalof\\nLexicography\\n,17(2):161Œ173.\\n2446'"
      ]
     },
     "execution_count": 19,
     "metadata": {},
     "output_type": "execute_result"
    }
   ],
   "source": [
    "startindex1 = text.find('\\n   Keywords:\\n ') + len('\\n   Keywords:\\n ')\n",
    "stopindex1 = text.find(' \\n 1. Introduction \\n')\n",
    "text[startindex1:stopindex1].split(',')\n",
    "text"
   ]
  },
  {
   "cell_type": "markdown",
   "metadata": {},
   "source": [
    "Text Body Extraction"
   ]
  },
  {
   "cell_type": "code",
   "execution_count": 15,
   "metadata": {},
   "outputs": [
    {
     "ename": "AttributeError",
     "evalue": "'NoneType' object has no attribute 'start'",
     "output_type": "error",
     "traceback": [
      "\u001b[0;31m---------------------------------------------------------------------------\u001b[0m",
      "\u001b[0;31mAttributeError\u001b[0m                            Traceback (most recent call last)",
      "\u001b[0;32m<ipython-input-15-9e30906dd340>\u001b[0m in \u001b[0;36m<module>\u001b[0;34m\u001b[0m\n\u001b[1;32m      1\u001b[0m \u001b[0;31m#text = text.replace('\\n', '')\u001b[0m\u001b[0;34m\u001b[0m\u001b[0;34m\u001b[0m\u001b[0m\n\u001b[1;32m      2\u001b[0m \u001b[0mstartindex2\u001b[0m \u001b[0;34m=\u001b[0m \u001b[0mtext\u001b[0m\u001b[0;34m.\u001b[0m\u001b[0mfind\u001b[0m\u001b[0;34m(\u001b[0m\u001b[0;34m' \\n 1. Introduction \\n'\u001b[0m\u001b[0;34m)\u001b[0m\u001b[0;34m\u001b[0m\u001b[0m\n\u001b[0;32m----> 3\u001b[0;31m \u001b[0mstopindex2\u001b[0m \u001b[0;34m=\u001b[0m \u001b[0mre\u001b[0m\u001b[0;34m.\u001b[0m\u001b[0msearch\u001b[0m\u001b[0;34m(\u001b[0m\u001b[0;34m'\\s*\\n*\\d*\\.*\\s(References|\\w* References)\\s+\\n*'\u001b[0m\u001b[0;34m,\u001b[0m \u001b[0mtext\u001b[0m\u001b[0;34m,\u001b[0m \u001b[0mre\u001b[0m\u001b[0;34m.\u001b[0m\u001b[0mIGNORECASE\u001b[0m\u001b[0;34m)\u001b[0m\u001b[0;34m.\u001b[0m\u001b[0mstart\u001b[0m\u001b[0;34m(\u001b[0m\u001b[0;34m)\u001b[0m\u001b[0;34m\u001b[0m\u001b[0m\n\u001b[0m\u001b[1;32m      4\u001b[0m \u001b[0mbody\u001b[0m \u001b[0;34m=\u001b[0m \u001b[0mtext\u001b[0m\u001b[0;34m[\u001b[0m\u001b[0mstartindex2\u001b[0m\u001b[0;34m:\u001b[0m\u001b[0mstopindex2\u001b[0m\u001b[0;34m]\u001b[0m\u001b[0;34m\u001b[0m\u001b[0m\n",
      "\u001b[0;31mAttributeError\u001b[0m: 'NoneType' object has no attribute 'start'"
     ]
    }
   ],
   "source": [
    "#text = text.replace('\\n', '')\n",
    "startindex2 = text.find(' \\n 1. Introduction \\n')\n",
    "stopindex2 = re.search('\\s*\\n*\\d*\\.*\\s(References|\\w* References)\\s+\\n*', text, re.IGNORECASE).start()\n",
    "body = text[startindex2:stopindex2]"
   ]
  },
  {
   "cell_type": "code",
   "execution_count": null,
   "metadata": {},
   "outputs": [],
   "source": []
  },
  {
   "cell_type": "code",
   "execution_count": null,
   "metadata": {},
   "outputs": [],
   "source": []
  },
  {
   "cell_type": "code",
   "execution_count": null,
   "metadata": {},
   "outputs": [],
   "source": []
  },
  {
   "cell_type": "code",
   "execution_count": null,
   "metadata": {},
   "outputs": [],
   "source": []
  },
  {
   "cell_type": "code",
   "execution_count": null,
   "metadata": {},
   "outputs": [],
   "source": []
  },
  {
   "cell_type": "code",
   "execution_count": null,
   "metadata": {},
   "outputs": [],
   "source": []
  },
  {
   "cell_type": "code",
   "execution_count": null,
   "metadata": {},
   "outputs": [],
   "source": []
  },
  {
   "cell_type": "code",
   "execution_count": null,
   "metadata": {},
   "outputs": [],
   "source": []
  },
  {
   "cell_type": "code",
   "execution_count": null,
   "metadata": {},
   "outputs": [],
   "source": []
  },
  {
   "cell_type": "code",
   "execution_count": null,
   "metadata": {},
   "outputs": [],
   "source": []
  },
  {
   "cell_type": "code",
   "execution_count": null,
   "metadata": {},
   "outputs": [],
   "source": []
  },
  {
   "cell_type": "code",
   "execution_count": null,
   "metadata": {},
   "outputs": [],
   "source": []
  },
  {
   "cell_type": "code",
   "execution_count": null,
   "metadata": {
    "scrolled": false
   },
   "outputs": [],
   "source": [
    "import bs4\n",
    "from bs4 import BeautifulSoup\n",
    "from urllib.request import urlopen\n",
    "import re\n",
    "import sys\n",
    "\n",
    "path = \".\\\\data\\ACL\\\\\"\n",
    "if 'Apple' in sys.version:\n",
    "    path = \"data/ACL/\"\n",
    "url = 'http://aclweb.org/anthology/'\n",
    "html = urlopen(url).read()\n",
    "namecount = 1\n",
    "\n",
    "soup = BeautifulSoup(html, 'html.parser')\n",
    "\n",
    "\n",
    "\n",
    "\n",
    "\n",
    "\n",
    "\n",
    "L = ['J,', 'Q,', 'P,', 'E,', 'N,', 'D,', 'K,', 'S,', 'W,', 'A,', 'C,', 'H,', 'L,', 'Y,', 'O,', 'T']\n",
    "\n",
    "\n",
    "\n",
    "pattern_old = r'http:\\/\\/aclweb\\.org\\/anthology\\/[JQPENDKSWACHLYOT]\\/[JQPENDKSWACHLYOT]\\d\\d\\/'\n",
    "pattern = r'[JQPENDKSWACHLYTUX]\\/[JQPENDKSWACHLYTUX]\\d\\d\\/'\n",
    "tags = soup.findAll('a', href = re.compile(pattern))\n",
    "links = []\n",
    "for tag in tags:\n",
    "    #print(url + tag.attrs['href'])\n",
    "    links.append(url + tag.attrs['href'])\n",
    "\n",
    "\n",
    "def download_file(download_url):\n",
    "    global namecount\n",
    "    response = urlopen(download_url)\n",
    "    file = open('tmp.pdf', 'r+b')\n",
    "    file.write(response.read())\n",
    "    file.close()\n",
    "    pdfFileObj = open('tmp.pdf', 'rb')\n",
    "    pdfReader = PyPDF2.PdfFileReader(pdfFileObj)\n",
    "    num_pages = pdfReader.numPages\n",
    "    text = \"\"\n",
    "    #The for loop will read each page\n",
    "    for page_index in range(num_pages):\n",
    "        pageObj = pdfReader.getPage(page_index)\n",
    "        text += pageObj.extractText()\n",
    "    #with open(path + str(namecount) + '.txt', 'w') as f:\n",
    "    with open(str(namecount) + '.txt', 'w') as f:\n",
    "        namecount += 1\n",
    "        f.write(text)\n",
    "        \n",
    "\n",
    "def get_pdf(links, baseURL=None):\n",
    "    count = 0\n",
    "        \n",
    "    pdf_papers = []\n",
    "    for link in links:\n",
    "        if baseURL is None:\n",
    "            baseURL = link\n",
    "        html = urlopen(link).read()\n",
    "        soup = BeautifulSoup(html, 'html.parser')\n",
    "        pattern = r'\\.pdf$'\n",
    "        tags = soup.findAll('a', href = re.compile(pattern))\n",
    "        \n",
    "        for tag in tags:\n",
    "            count += 1\n",
    "            #print(baseURL.replace('.html', '/') + tag.attrs['href'])\n",
    "            pdf_papers.append(baseURL + tag.attrs['href'])\n",
    "            try:\n",
    "                download_file(baseURL.replace('.html', '/') + tag.attrs['href'])\n",
    "            except:\n",
    "                pass\n",
    "            \n",
    "    return pdf_papers, count\n",
    "  \n",
    "\n",
    "pdfs, count1 = get_pdf(links)\n",
    "\n",
    "\n",
    "\n",
    "\n",
    "endings = ['ANN', 'BIOMED', 'DAT', 'DIAL', 'FSM', 'GEN', 'HAN', 'HUM', 'LEX', 'MEDIA', 'MOL', 'MT', 'NLL', 'PARSE', 'MORPHON', 'SEM', 'SLAV', 'SEMITIC', 'SLPAT', 'UR', 'WAC']\n",
    "endings = ['sig' + item.lower() for item in endings]\n",
    "\n",
    "links = []\n",
    "for ending in endings:\n",
    "    link = url + ending + '.html'\n",
    "    links.append(link)\n",
    "pdfs, count2 = get_pdf(links, url)\n",
    "\n",
    "\n",
    "print('number of pdf files: ', count1, count2, count1 + count2)\n"
   ]
  },
  {
   "cell_type": "code",
   "execution_count": 7,
   "metadata": {},
   "outputs": [
    {
     "data": {
      "text/plain": [
       "'/Users/Friedi/OneDrive - bwedu/Unidokumente/Extraktion von Fachwortschatz aus Fachtexten/scrapeLREC'"
      ]
     },
     "execution_count": 7,
     "metadata": {},
     "output_type": "execute_result"
    }
   ],
   "source": [
    "import os\n",
    "os.getcwd()"
   ]
  },
  {
   "cell_type": "code",
   "execution_count": null,
   "metadata": {},
   "outputs": [],
   "source": []
  },
  {
   "cell_type": "code",
   "execution_count": null,
   "metadata": {},
   "outputs": [],
   "source": []
  },
  {
   "cell_type": "code",
   "execution_count": null,
   "metadata": {},
   "outputs": [],
   "source": []
  },
  {
   "cell_type": "code",
   "execution_count": null,
   "metadata": {},
   "outputs": [],
   "source": []
  },
  {
   "cell_type": "code",
   "execution_count": null,
   "metadata": {},
   "outputs": [],
   "source": []
  },
  {
   "cell_type": "code",
   "execution_count": null,
   "metadata": {},
   "outputs": [],
   "source": []
  },
  {
   "cell_type": "code",
   "execution_count": null,
   "metadata": {},
   "outputs": [],
   "source": []
  },
  {
   "cell_type": "markdown",
   "metadata": {},
   "source": [
    "Code below is for LREC scraping, dont use fpr ACL! Similar to ExtractHTML.py"
   ]
  },
  {
   "cell_type": "code",
   "execution_count": 12,
   "metadata": {},
   "outputs": [
    {
     "name": "stdout",
     "output_type": "stream",
     "text": [
      "searching data/LREC/LREC2012_Proceedings/\n"
     ]
    },
    {
     "name": "stderr",
     "output_type": "stream",
     "text": [
      "PdfReadWarning: Xref table not zero-indexed. ID numbers for objects will be corrected. [pdf.py:1736]\n"
     ]
    }
   ],
   "source": [
    "import codecs\n",
    "import bs4\n",
    "import PyPDF2\n",
    "import os\n",
    "\n",
    "years = [2010, 2012, 2014, 2016, 2018]\n",
    "years = [2012]\n",
    "datalist = []\n",
    "for year in years:\n",
    "    LRECdir = 'data/LREC/LREC' + str(year) + '_Proceedings/'\n",
    "    print('searching ' + str(LRECdir))\n",
    "    for summary in os.listdir(LRECdir + 'summaries/')[:10]:\n",
    "        \n",
    "        data = {}\n",
    "        \n",
    "        # open file\n",
    "        f=codecs.open(str(LRECdir + 'summaries/') + str(summary), 'r')\n",
    "        try:\n",
    "            soup = bs4.BeautifulSoup(f, 'html.parser')\n",
    "        except:\n",
    "            print(summary + ' not included')\n",
    "        \n",
    "        # get year\n",
    "        data['year'] = year\n",
    "        \n",
    "        # get number\n",
    "        data['number'] = summary.strip('.html')\n",
    "        \n",
    "        # extract title\n",
    "        title = soup.find('th', class_=\"second_summaries\").string\n",
    "        data['title'] = title\n",
    "\n",
    "        # extract topics\n",
    "        topics = []\n",
    "        for a in bs4.BeautifulSoup(str(soup.find_all(class_='topics_summaries')), 'html.parser').find_all('a'):\n",
    "            topics.append(a.string)\n",
    "        data['topics'] = topics\n",
    "        \n",
    "        # extract authors\n",
    "        authors = []\n",
    "        for a in soup.find('td', text = 'Authors').nextSibling.nextSibling.find_all('a'):\n",
    "            authors.append(a.string)\n",
    "        data['authors'] = authors\n",
    "        \n",
    "        # extract abstracts\n",
    "        data['abstract'] = soup.find('td', text = 'Abstract').nextSibling.nextSibling.string\n",
    "        datalist.append(data)\n",
    "        \n",
    "        # extract text body\n",
    "        if year == 2018:\n",
    "            pdfdir = LRECdir + 'pdf/' + str(data['number']) + '.pdf'\n",
    "        else:\n",
    "            pdfdir = LRECdir + 'pdf/' + str(data['number']) + '_Paper.pdf'\n",
    "        pdfFileObj = open(pdfdir, 'rb')\n",
    "        pdfReader = PyPDF2.PdfFileReader(pdfFileObj)\n",
    "        num_pages = pdfReader.numPages\n",
    "        text = \"\"\n",
    "        for page_index in range(num_pages):\n",
    "            pageObj = pdfReader.getPage(page_index)\n",
    "            text += pageObj.extractText()\n",
    "        data['fulltext'] = text\n",
    "        \n",
    "        # extract keywords\n",
    "            \n",
    "        \n",
    "\n",
    "        \n",
    "        \n",
    "    \n",
    "\n",
    "#alltopics = []\n",
    "#for topiclist in topicsdict:\n",
    "#    for topic in topiclist.split(' '):\n",
    "#        alltopics.append(topic)\n",
    "#alltopics = list(set(alltopics))"
   ]
  },
  {
   "cell_type": "code",
   "execution_count": null,
   "metadata": {},
   "outputs": [],
   "source": []
  }
 ],
 "metadata": {
  "kernelspec": {
   "display_name": "Python 3",
   "language": "python",
   "name": "python3"
  },
  "language_info": {
   "codemirror_mode": {
    "name": "ipython",
    "version": 3
   },
   "file_extension": ".py",
   "mimetype": "text/x-python",
   "name": "python",
   "nbconvert_exporter": "python",
   "pygments_lexer": "ipython3",
   "version": "3.6.6"
  }
 },
 "nbformat": 4,
 "nbformat_minor": 2
}
