{
 "cells": [
  {
   "cell_type": "code",
   "execution_count": 1,
   "metadata": {},
   "outputs": [],
   "source": [
    "#%qtconsole\n",
    "import PyPDF2\n",
    "import re\n",
    "#import textract"
   ]
  },
  {
   "cell_type": "code",
   "execution_count": 2,
   "metadata": {},
   "outputs": [
    {
     "name": "stderr",
     "output_type": "stream",
     "text": [
      "PdfReadWarning: Xref table not zero-indexed. ID numbers for objects will be corrected. [pdf.py:1736]\n"
     ]
    }
   ],
   "source": [
    "#write a for-loop to open many files -- leave a comment if you'd #like to learn how\n",
    "filename = 'data/LREC/LREC2012_Proceedings/pdf/106_Paper.pdf'\n",
    "#open allows you to read the file\n",
    "pdfFileObj = open(filename,'rb')\n",
    "#The pdfReader variable is a readable object that will be parsed\n",
    "pdfReader = PyPDF2.PdfFileReader(pdfFileObj)\n",
    "#discerning the number of pages will allow us to parse through all #the pages\n",
    "num_pages = pdfReader.numPages\n",
    "text = \"\"\n",
    "#The for loop will read each page\n",
    "for page_index in range(num_pages):\n",
    "    pageObj = pdfReader.getPage(page_index)\n",
    "    text += pageObj.extractText()"
   ]
  },
  {
   "cell_type": "code",
   "execution_count": 4,
   "metadata": {},
   "outputs": [
    {
     "data": {
      "text/plain": [
       "['multimodal corpora', ' conversational video data', ' interaction engagement']"
      ]
     },
     "execution_count": 4,
     "metadata": {},
     "output_type": "execute_result"
    }
   ],
   "source": [
    "startindex1 = text.find('\\n   Keywords:\\n ') + len('\\n   Keywords:\\n ')\n",
    "stopindex1 = text.find(' \\n 1. Introduction \\n')\n",
    "text[startindex1:stopindex1].split(',')"
   ]
  },
  {
   "cell_type": "code",
   "execution_count": 5,
   "metadata": {},
   "outputs": [],
   "source": [
    "#text = text.replace('\\n', '')\n",
    "startindex2 = text.find(' \\n 1. Introduction \\n')\n",
    "stopindex2 = re.search('\\s*\\n*\\d*\\.*\\s(References|\\w* References)\\s+\\n*', text, re.IGNORECASE).start()\n",
    "body = text[startindex2:stopindex2]"
   ]
  },
  {
   "cell_type": "code",
   "execution_count": null,
   "metadata": {
    "scrolled": false
   },
   "outputs": [],
   "source": [
    "import bs4\n",
    "from bs4 import BeautifulSoup\n",
    "from urllib.request import urlopen\n",
    "import re\n",
    "import sys\n",
    "\n",
    "path = \".\\\\data\\ACL\\\\\"\n",
    "if 'Apple' in sys.version:\n",
    "    path = \"data/ACL/\"\n",
    "url = 'http://aclweb.org/anthology/'\n",
    "html = urlopen(url).read()\n",
    "namecount = 1\n",
    "\n",
    "soup = BeautifulSoup(html, 'html.parser')\n",
    "\n",
    "\n",
    "\n",
    "\n",
    "\n",
    "\n",
    "\n",
    "L = ['J,', 'Q,', 'P,', 'E,', 'N,', 'D,', 'K,', 'S,', 'W,', 'A,', 'C,', 'H,', 'L,', 'Y,', 'O,', 'T']\n",
    "\n",
    "\n",
    "\n",
    "pattern_old = r'http:\\/\\/aclweb\\.org\\/anthology\\/[JQPENDKSWACHLYOT]\\/[JQPENDKSWACHLYOT]\\d\\d\\/'\n",
    "pattern = r'[JQPENDKSWACHLYTUX]\\/[JQPENDKSWACHLYTUX]\\d\\d\\/'\n",
    "tags = soup.findAll('a', href = re.compile(pattern))\n",
    "links = []\n",
    "for tag in tags:\n",
    "    #print(url + tag.attrs['href'])\n",
    "    links.append(url + tag.attrs['href'])\n",
    "\n",
    "\n",
    "def download_file(download_url):\n",
    "    global namecount\n",
    "    response = urlopen(download_url)\n",
    "    file = open('tmp.pdf', 'r+b')\n",
    "    file.write(response.read())\n",
    "    file.close()\n",
    "    pdfFileObj = open('tmp.pdf', 'rb')\n",
    "    pdfReader = PyPDF2.PdfFileReader(pdfFileObj)\n",
    "    num_pages = pdfReader.numPages\n",
    "    text = \"\"\n",
    "    #The for loop will read each page\n",
    "    for page_index in range(num_pages):\n",
    "        pageObj = pdfReader.getPage(page_index)\n",
    "        text += pageObj.extractText()\n",
    "    #with open(path + str(namecount) + '.txt', 'w') as f:\n",
    "    with open(str(namecount) + '.txt', 'w') as f:\n",
    "        namecount += 1\n",
    "        f.write(text)\n",
    "        \n",
    "\n",
    "def get_pdf(links, baseURL=None):\n",
    "    count = 0\n",
    "        \n",
    "    pdf_papers = []\n",
    "    for link in links:\n",
    "        if baseURL is None:\n",
    "            baseURL = link\n",
    "        html = urlopen(link).read()\n",
    "        soup = BeautifulSoup(html, 'html.parser')\n",
    "        pattern = r'\\.pdf$'\n",
    "        tags = soup.findAll('a', href = re.compile(pattern))\n",
    "        \n",
    "        for tag in tags:\n",
    "            count += 1\n",
    "            #print(baseURL.replace('.html', '/') + tag.attrs['href'])\n",
    "            pdf_papers.append(baseURL + tag.attrs['href'])\n",
    "            try:\n",
    "                download_file(baseURL.replace('.html', '/') + tag.attrs['href'])\n",
    "            except:\n",
    "                pass\n",
    "            \n",
    "    return pdf_papers, count\n",
    "  \n",
    "\n",
    "pdfs, count1 = get_pdf(links)\n",
    "\n",
    "\n",
    "\n",
    "\n",
    "endings = ['ANN', 'BIOMED', 'DAT', 'DIAL', 'FSM', 'GEN', 'HAN', 'HUM', 'LEX', 'MEDIA', 'MOL', 'MT', 'NLL', 'PARSE', 'MORPHON', 'SEM', 'SLAV', 'SEMITIC', 'SLPAT', 'UR', 'WAC']\n",
    "endings = ['sig' + item.lower() for item in endings]\n",
    "\n",
    "links = []\n",
    "for ending in endings:\n",
    "    link = url + ending + '.html'\n",
    "    links.append(link)\n",
    "pdfs, count2 = get_pdf(links, url)\n",
    "\n",
    "\n",
    "print('number of pdf files: ', count1, count2, count1 + count2)\n"
   ]
  },
  {
   "cell_type": "code",
   "execution_count": 7,
   "metadata": {},
   "outputs": [
    {
     "data": {
      "text/plain": [
       "'/Users/Friedi/OneDrive - bwedu/Unidokumente/Extraktion von Fachwortschatz aus Fachtexten/scrapeLREC'"
      ]
     },
     "execution_count": 7,
     "metadata": {},
     "output_type": "execute_result"
    }
   ],
   "source": [
    "import os\n",
    "os.getcwd()"
   ]
  },
  {
   "cell_type": "code",
   "execution_count": null,
   "metadata": {},
   "outputs": [],
   "source": []
  }
 ],
 "metadata": {
  "kernelspec": {
   "display_name": "Python 3",
   "language": "python",
   "name": "python3"
  },
  "language_info": {
   "codemirror_mode": {
    "name": "ipython",
    "version": 3
   },
   "file_extension": ".py",
   "mimetype": "text/x-python",
   "name": "python",
   "nbconvert_exporter": "python",
   "pygments_lexer": "ipython3",
   "version": "3.6.6"
  }
 },
 "nbformat": 4,
 "nbformat_minor": 2
}
