{
 "cells": [
  {
   "cell_type": "code",
   "execution_count": null,
   "metadata": {},
   "outputs": [],
   "source": [
    "#%qtconsole\n",
    "import codecs\n",
    "import html.parser\n",
    "import bs4\n",
    "import os"
   ]
  },
  {
   "cell_type": "code",
   "execution_count": null,
   "metadata": {},
   "outputs": [],
   "source": [
    "os.chdir('/Users/Friedi/OneDrive - bwedu/Unidokumente/Extraktion von Fachwortschatz aus Fachtexten')\n",
    "years = [2010, 2012, 2014, 2016, 2018]\n",
    "keyworddict = {}\n",
    "for year in years:\n",
    "    summarydir = 'LREC/LREC' + str(year) + '_Proceedings/summaries/'\n",
    "    os.chdir(summarydir)\n",
    "    print('searching ' + str(summarydir))\n",
    "    for summary in os.listdir():\n",
    "        f=codecs.open(str(summary), 'r')\n",
    "        try:\n",
    "            soup = bs4.BeautifulSoup(f, 'html.parser')\n",
    "        except:\n",
    "            print(summary + ' not included')\n",
    "        keywords = []\n",
    "        for a in bs4.BeautifulSoup(str(soup.find_all(class_='topics_summaries')), 'html.parser').find_all('a'):\n",
    "            keywords.append(a.string)\n",
    "        title = soup.find('th', class_=\"second_summaries\").string\n",
    "        if title in keyworddict.keys():\n",
    "            print('Doubly assigned title: ' + title)\n",
    "        keyworddict[title] = keywords\n",
    "    os.chdir('../../..')"
   ]
  },
  {
   "cell_type": "code",
   "execution_count": null,
   "metadata": {},
   "outputs": [],
   "source": []
  }
 ],
 "metadata": {
  "kernelspec": {
   "display_name": "Python 3",
   "language": "python",
   "name": "python3"
  },
  "language_info": {
   "codemirror_mode": {
    "name": "ipython",
    "version": 3
   },
   "file_extension": ".py",
   "mimetype": "text/x-python",
   "name": "python",
   "nbconvert_exporter": "python",
   "pygments_lexer": "ipython3",
   "version": "3.6.7"
  }
 },
 "nbformat": 4,
 "nbformat_minor": 2
}
